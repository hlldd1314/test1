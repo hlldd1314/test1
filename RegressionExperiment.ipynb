{
 "cells": [
  {
   "cell_type": "code",
   "execution_count": 1,
   "metadata": {
    "collapsed": true
   },
   "outputs": [],
   "source": [
    "import numpy as np\n",
    "from sklearn.model_selection import train_test_split\n",
    "from sklearn.datasets import load_svmlight_file\n",
    "import matplotlib.pyplot as plot"
   ]
  },
  {
   "cell_type": "code",
   "execution_count": 2,
   "metadata": {
    "collapsed": true
   },
   "outputs": [],
   "source": [
    "def LR(delta,updatenum,X_train,y_train,X_test,y_test):\n",
    "    W = np.zeros((X.shape[1],1))\n",
    "    print(W)\n",
    "    b = 0\n",
    "    trainCost = []\n",
    "    validationCost = []\n",
    "    for i in range(updatenum):\n",
    "        trainCost.append(np.sum(np.square(X_train.dot(W) + b - y_train))/ (2*X_train.shape[0]))\n",
    "        validationCost.append(np.sum(np.square(X_test.dot(W) + b - y_test))/ (2*X_test.shape[0]))\n",
    "        GW = X_train.T.dot((X_train.dot(W) + b - y_train)) / X_train.shape[0]\n",
    "        Gb = np.sum((X_train.dot(W) + b - y_train)) / X_train.shape[0]\n",
    "        DW = -GW\n",
    "        Db = -Gb\n",
    "        W = W + delta*DW\n",
    "        b = b + delta*Db\n",
    "    return trainCost,validationCost\n",
    "\n",
    "def get_data():\n",
    "    data = load_svmlight_file(\"C:/Users/Administrator/Desktop/housing.txt\")\n",
    "    return data[0], data[1]"
   ]
  },
  {
   "cell_type": "code",
   "execution_count": 3,
   "metadata": {
    "collapsed": false
   },
   "outputs": [
    {
     "name": "stdout",
     "output_type": "stream",
     "text": [
      "[[ 0.]\n",
      " [ 0.]\n",
      " [ 0.]\n",
      " [ 0.]\n",
      " [ 0.]\n",
      " [ 0.]\n",
      " [ 0.]\n",
      " [ 0.]\n",
      " [ 0.]\n",
      " [ 0.]\n",
      " [ 0.]\n",
      " [ 0.]\n",
      " [ 0.]]\n"
     ]
    },
    {
     "data": {
      "image/png": "[encoded data removed]",
      "text/plain": [
       "<matplotlib.figure.Figure at 0x871aa90>"
      ]
     },
     "metadata": {},
     "output_type": "display_data"
    }
   ],
   "source": [
    "X,y = get_data()\n",
    "X_train, X_test, y_train, y_test = train_test_split(X, y, test_size=0.1)\n",
    "X_train = X_train.todense()\n",
    "y_train = y_train.reshape(y_train.shape[0],1)\n",
    "X_test = X_test.todense()\n",
    "y_test = y_test.reshape(y_test.shape[0],1)\n",
    "learnrate=0.1\n",
    "iternum=100\n",
    "Tcost,Vcost=LR(learnrate,iternum,X_train,y_train,X_test,y_test)\n",
    "plot.figure(1)\n",
    "arr = np.arange(0, iternum, 1)\n",
    "plot.xlabel('iternum')\n",
    "plot.ylabel('Loss')\n",
    "plot.plot(arr,Tcost,color=\"g\",label = \"Ltrain\")\n",
    "plot.plot(arr,Vcost,color=\"r\",label = \"Lvalidation\")\n",
    "plot.legend(loc='upper right')\n",
    "plot.show()"
   ]
  },
  {
   "cell_type": "code",
   "execution_count": null,
   "metadata": {
    "collapsed": true
   },
   "outputs": [],
   "source": []
  }
 ],
 "metadata": {
  "anaconda-cloud": {},
  "kernelspec": {
   "display_name": "Python [conda root]",
   "language": "python",
   "name": "conda-root-py"
  },
  "language_info": {
   "codemirror_mode": {
    "name": "ipython",
    "version": 3
   },
   "file_extension": ".py",
   "mimetype": "text/x-python",
   "name": "python",
   "nbconvert_exporter": "python",
   "pygments_lexer": "ipython3",
   "version": "3.5.2"
  }
 },
 "nbformat": 4,
 "nbformat_minor": 1
}
